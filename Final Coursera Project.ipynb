{
 "cells": [
  {
   "cell_type": "markdown",
   "metadata": {},
   "source": [
    "# Final Project"
   ]
  },
  {
   "cell_type": "markdown",
   "metadata": {},
   "source": [
    "Business Problem:\n",
    "\n",
    "In a Scarborough, Toronto, a client is looking to open a restaurant, where would I recommend that they open it? There are many neighborhoods within Scarborough, choosing the right place is one of the most important decisions the client will make when starting his own business.\n",
    "\n",
    "Considerations to take into account:\n",
    "\n",
    "The client is a high end restaurant and wants to locate in a place where there are other restaurants, to attract clientelle, but that also has enough wealth to afford his product.\n",
    "\n",
    "We will base the decision on two things:\n",
    "\n",
    "1. Other businesses in the area\n",
    "2. Wealth of the area\n"
   ]
  },
  {
   "cell_type": "markdown",
   "metadata": {},
   "source": [
    "Data I will be using:\n",
    "    \n",
    "I will use the Foursquare API data to understand what other businesses are in the area. I will also create a dataframe with the average wealth of people living in each area."
   ]
  }
 ],
 "metadata": {
  "kernelspec": {
   "display_name": "Python 3",
   "language": "python",
   "name": "python3"
  },
  "language_info": {
   "codemirror_mode": {
    "name": "ipython",
    "version": 3
   },
   "file_extension": ".py",
   "mimetype": "text/x-python",
   "name": "python",
   "nbconvert_exporter": "python",
   "pygments_lexer": "ipython3",
   "version": "3.7.3"
  }
 },
 "nbformat": 4,
 "nbformat_minor": 2
}
