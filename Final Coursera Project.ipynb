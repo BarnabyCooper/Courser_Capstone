{
 "cells": [
  {
   "cell_type": "markdown",
   "metadata": {},
   "source": [
    "# Final Project"
   ]
  },
  {
   "cell_type": "markdown",
   "metadata": {},
   "source": [
    "Introduction\n",
    "\n",
    "There are many neighborhoods within Scarborough, choosing the right place is one of the most important decisions the client will make when starting the restaurant. The restaurant is a high end Sushi bar. Serving clients typically in the top 20% of U.S. earners. It operates a BYOB policy and will consequently not serve alcohol. It’s business model works on 50% service through bookings and 50% of service through walkins. This report will outline the methodology and process used to find the perfect location, as well as the results found.\n",
    "\n",
    "Data\n",
    "\n",
    "The business decision will be based on the following criteria. Firstly, the number of other businesses in the area. The business generates significant revenues through walk-ins, there must be other restaurants in the area, but not so many such that competition is high. We can rule out areas with few restaurant establishments. Second, the area must be in the 20% ranking within Scarborough for wealth, and within this subset, the wealthier the better. There is an additional constraint that the restaurant must be placed within walking distance of a BYOB. \n",
    "\n",
    "I will consequently be using the following datasources:\n",
    "\n",
    "Foursquare API: to find the locations and segment by types of businesses within those locations.\n",
    "‘Demographics of Toronto Neighbourhoods’ dataset obtained from wikipedia which contains wealth and population data for the area. Source: https://en.wikipedia.org/wiki/Demographics_of_Toronto_neighbourhoods."
   ]
  },
  {
   "cell_type": "code",
   "execution_count": 1,
   "metadata": {},
   "outputs": [
    {
     "name": "stdout",
     "output_type": "stream",
     "text": [
      "Collecting package metadata (current_repodata.json): done\n",
      "Solving environment: done\n",
      "\n",
      "## Package Plan ##\n",
      "\n",
      "  environment location: //anaconda3\n",
      "\n",
      "  added / updated specs:\n",
      "    - geopy\n",
      "\n",
      "\n",
      "The following packages will be downloaded:\n",
      "\n",
      "    package                    |            build\n",
      "    ---------------------------|-----------------\n",
      "    ca-certificates-2020.4.5.2 |       hecda079_0         146 KB  conda-forge\n",
      "    certifi-2020.4.5.2         |   py37hc8dfbb8_0         152 KB  conda-forge\n",
      "    ------------------------------------------------------------\n",
      "                                           Total:         298 KB\n",
      "\n",
      "The following packages will be UPDATED:\n",
      "\n",
      "  ca-certificates                     2020.4.5.1-hecc5488_0 --> 2020.4.5.2-hecda079_0\n",
      "  certifi                         2020.4.5.1-py37hc8dfbb8_0 --> 2020.4.5.2-py37hc8dfbb8_0\n",
      "\n",
      "\n",
      "\n",
      "Downloading and Extracting Packages\n",
      "ca-certificates-2020 | 146 KB    | ##################################### | 100% \n",
      "certifi-2020.4.5.2   | 152 KB    | ##################################### | 100% \n",
      "Preparing transaction: done\n",
      "Verifying transaction: done\n",
      "Executing transaction: done\n",
      "Matplotlib version:  3.1.0\n"
     ]
    }
   ],
   "source": [
    "# Modules\n",
    "import pandas as pd\n",
    "import numpy as np\n",
    "from bs4 import BeautifulSoup\n",
    "import requests\n",
    "!conda install -c conda-forge geopy --yes \n",
    "from geopy.geocoders import Nominatim # convert an address into latitude and longitude values\n",
    "import requests # library to handle requests\n",
    "from pandas.io.json import json_normalize # tranform JSON file into a pandas dataframe\n",
    "# Matplotlib and associated plotting modules\n",
    "import matplotlib.cm as cm\n",
    "import matplotlib.colors as colors\n",
    "# import k-means from clustering stage\n",
    "from sklearn.cluster import KMeans\n",
    "#!conda install -c conda-forge folium=0.5.0 --yes # uncomment this line if you haven't completed the Foursquare API lab\n",
    "import folium # map rendering library\n",
    "%matplotlib inline\n",
    "import matplotlib as mpl\n",
    "import matplotlib.pyplot as plt\n",
    "mpl.style.use('ggplot') # optional: for ggplot-like style\n",
    "# check for latest version of Matplotlib\n",
    "print('Matplotlib version: ', mpl.__version__) # >= 2.0.0"
   ]
  },
  {
   "cell_type": "markdown",
   "metadata": {},
   "source": [
    "# Creat dataframes for analysis"
   ]
  },
  {
   "cell_type": "markdown",
   "metadata": {},
   "source": [
    "#### Create df for average wealth of neighborhoods in Scarborough, Toronto"
   ]
  },
  {
   "cell_type": "code",
   "execution_count": 8,
   "metadata": {},
   "outputs": [],
   "source": [
    "#read in csv from https://en.wikipedia.org/wiki/Demographics_of_Toronto_neighbourhoods.\n",
    "df_w=pd.read_csv('toronto-wealth.csv',thousands=',')"
   ]
  },
  {
   "cell_type": "code",
   "execution_count": 9,
   "metadata": {},
   "outputs": [
    {
     "data": {
      "text/html": [
       "<div>\n",
       "<style scoped>\n",
       "    .dataframe tbody tr th:only-of-type {\n",
       "        vertical-align: middle;\n",
       "    }\n",
       "\n",
       "    .dataframe tbody tr th {\n",
       "        vertical-align: top;\n",
       "    }\n",
       "\n",
       "    .dataframe thead th {\n",
       "        text-align: right;\n",
       "    }\n",
       "</style>\n",
       "<table border=\"1\" class=\"dataframe\">\n",
       "  <thead>\n",
       "    <tr style=\"text-align: right;\">\n",
       "      <th></th>\n",
       "      <th>Name</th>\n",
       "      <th>Population</th>\n",
       "      <th>Land area (km2)</th>\n",
       "      <th>Density (people/km2)</th>\n",
       "      <th>Average Income</th>\n",
       "    </tr>\n",
       "  </thead>\n",
       "  <tbody>\n",
       "    <tr>\n",
       "      <th>0</th>\n",
       "      <td>Bridle Path</td>\n",
       "      <td>1540</td>\n",
       "      <td>3.46</td>\n",
       "      <td>445</td>\n",
       "      <td>314107</td>\n",
       "    </tr>\n",
       "    <tr>\n",
       "      <th>1</th>\n",
       "      <td>Allenby</td>\n",
       "      <td>2513</td>\n",
       "      <td>0.58</td>\n",
       "      <td>4333</td>\n",
       "      <td>245592</td>\n",
       "    </tr>\n",
       "  </tbody>\n",
       "</table>\n",
       "</div>"
      ],
      "text/plain": [
       "          Name  Population  Land area (km2)  Density (people/km2)  \\\n",
       "0  Bridle Path        1540             3.46                   445   \n",
       "1      Allenby        2513             0.58                  4333   \n",
       "\n",
       "   Average Income  \n",
       "0          314107  \n",
       "1          245592  "
      ]
     },
     "execution_count": 9,
     "metadata": {},
     "output_type": "execute_result"
    }
   ],
   "source": [
    "#clean dataset\n",
    "df_w.drop(['Map','FM','Census Tracts','% Change in Population since 2001',\n",
    "         'Transit Commuting %', '% Renters',\n",
    "         'Second most common language (after English) by name',\n",
    "         'Second most common language (after English) by percentage'], axis=1, inplace=True)\n",
    "\n",
    "df_w.sort_values(ascending=False, axis=0, by='Average Income', inplace=True)\n",
    "df_w.reset_index(drop=True, inplace=True)\n",
    "df_w.head(2)"
   ]
  },
  {
   "cell_type": "markdown",
   "metadata": {},
   "source": [
    "#### Load in data frame for postcodes in Scarborough"
   ]
  },
  {
   "cell_type": "code",
   "execution_count": 10,
   "metadata": {},
   "outputs": [],
   "source": [
    "#get data from the internet\n",
    "wikipedia_link='https://en.wikipedia.org/wiki/List_of_postal_codes_of_Canada:_M'\n",
    "#Extract table\n",
    "df=pd.read_html(wikipedia_link, header=0)[0]\n",
    "df=pd.DataFrame(data=df)"
   ]
  },
  {
   "cell_type": "code",
   "execution_count": 11,
   "metadata": {},
   "outputs": [],
   "source": [
    "#drop not assigned Boroughs\n",
    "df=df[df.Borough != 'Not assigned'].reset_index(drop=True)\n",
    "#More than one neighbourhood can exist in one postal area. Combine these into one row with the neighbourhoods as csv's.\n",
    "df1=df.groupby(\"Postal Code\").agg(lambda x:','.join(set(x)))\n",
    "df1.loc[df1['Neighborhood']==\"Not assigned\",'Neighborhood']=df1.loc[df1['Neighborhood']==\"Not assigned\",'Borough']"
   ]
  },
  {
   "cell_type": "code",
   "execution_count": 12,
   "metadata": {},
   "outputs": [],
   "source": [
    "#More than one neighbourhood can exist in one postal area. Combine these into one row with the neighbourhoods as csv's.\n",
    "df1=df.groupby(\"Postal Code\").agg(lambda x:','.join(set(x)))\n",
    "df1.loc[df1['Neighborhood']==\"Not assigned\",'Neighborhood']=df1.loc[df1['Neighborhood']==\"Not assigned\",'Borough']"
   ]
  },
  {
   "cell_type": "markdown",
   "metadata": {},
   "source": [
    "#### Load in geo-spatial data to create map plots"
   ]
  },
  {
   "cell_type": "code",
   "execution_count": 13,
   "metadata": {},
   "outputs": [],
   "source": [
    "geo_data=pd.read_csv(\"http://cocl.us/Geospatial_data\")"
   ]
  },
  {
   "cell_type": "code",
   "execution_count": 14,
   "metadata": {},
   "outputs": [],
   "source": [
    "#Combine into single dataset\n",
    "df1['Latitude']=geo_data['Latitude'].values\n",
    "df1['Longitude']=geo_data['Longitude'].values"
   ]
  },
  {
   "cell_type": "markdown",
   "metadata": {},
   "source": [
    "#### Connect to the Foursquare API"
   ]
  },
  {
   "cell_type": "code",
   "execution_count": 15,
   "metadata": {},
   "outputs": [],
   "source": [
    "VERSION = '20180605' # Foursquare API version\n",
    "CLIENT_ID= 'E4P1ZPPZCHVNVWHCMTLHZIRVMECDXN0GJ5CWTFUQJVAGTLWM'\n",
    "CLIENT_SECRET= 'DV11UYIHRAIMTJY3E4TWXZGG345GVRZDWADZTYO00JY2DQNF'"
   ]
  },
  {
   "cell_type": "code",
   "execution_count": 16,
   "metadata": {},
   "outputs": [],
   "source": [
    "df_toronto=df1\n",
    "\n",
    "# limit dataset to Scarborough only\n",
    "scarborough_data = df_toronto[df_toronto['Borough'] == 'Scarborough'].reset_index(drop=True)\n"
   ]
  },
  {
   "cell_type": "code",
   "execution_count": 18,
   "metadata": {},
   "outputs": [
    {
     "name": "stdout",
     "output_type": "stream",
     "text": [
      "The geograpical coordinate of Scarborough are 43.773077, -79.257774.\n"
     ]
    }
   ],
   "source": [
    "#Save Foursquare Information\n",
    "address_scar = 'Scarborough,Toronto'\n",
    "latitude_scar = 43.773077\n",
    "longitude_scar = -79.257774\n",
    "print('The geograpical coordinate of Scarborough are {}, {}.'.format(latitude_scar, longitude_scar))"
   ]
  },
  {
   "cell_type": "markdown",
   "metadata": {},
   "source": [
    "# Analysis"
   ]
  },
  {
   "cell_type": "markdown",
   "metadata": {},
   "source": [
    "#### Eliminate area's without enough wealth"
   ]
  },
  {
   "cell_type": "code",
   "execution_count": 20,
   "metadata": {},
   "outputs": [
    {
     "data": {
      "text/html": [
       "<div>\n",
       "<style scoped>\n",
       "    .dataframe tbody tr th:only-of-type {\n",
       "        vertical-align: middle;\n",
       "    }\n",
       "\n",
       "    .dataframe tbody tr th {\n",
       "        vertical-align: top;\n",
       "    }\n",
       "\n",
       "    .dataframe thead th {\n",
       "        text-align: right;\n",
       "    }\n",
       "</style>\n",
       "<table border=\"1\" class=\"dataframe\">\n",
       "  <thead>\n",
       "    <tr style=\"text-align: right;\">\n",
       "      <th></th>\n",
       "      <th>Name</th>\n",
       "      <th>Population</th>\n",
       "      <th>Land area (km2)</th>\n",
       "      <th>Density (people/km2)</th>\n",
       "      <th>Average Income</th>\n",
       "    </tr>\n",
       "  </thead>\n",
       "  <tbody>\n",
       "    <tr>\n",
       "      <th>0</th>\n",
       "      <td>Bridle Path</td>\n",
       "      <td>1540</td>\n",
       "      <td>3.46</td>\n",
       "      <td>445</td>\n",
       "      <td>314107</td>\n",
       "    </tr>\n",
       "    <tr>\n",
       "      <th>1</th>\n",
       "      <td>Allenby</td>\n",
       "      <td>2513</td>\n",
       "      <td>0.58</td>\n",
       "      <td>4333</td>\n",
       "      <td>245592</td>\n",
       "    </tr>\n",
       "    <tr>\n",
       "      <th>2</th>\n",
       "      <td>Hoggs Hollow</td>\n",
       "      <td>3123</td>\n",
       "      <td>2.76</td>\n",
       "      <td>1132</td>\n",
       "      <td>222560</td>\n",
       "    </tr>\n",
       "    <tr>\n",
       "      <th>3</th>\n",
       "      <td>Lawrence Park</td>\n",
       "      <td>6653</td>\n",
       "      <td>3.64</td>\n",
       "      <td>1828</td>\n",
       "      <td>214110</td>\n",
       "    </tr>\n",
       "    <tr>\n",
       "      <th>4</th>\n",
       "      <td>Rosedale</td>\n",
       "      <td>7672</td>\n",
       "      <td>2.72</td>\n",
       "      <td>2821</td>\n",
       "      <td>213941</td>\n",
       "    </tr>\n",
       "  </tbody>\n",
       "</table>\n",
       "</div>"
      ],
      "text/plain": [
       "            Name  Population  Land area (km2)  Density (people/km2)  \\\n",
       "0    Bridle Path        1540             3.46                   445   \n",
       "1        Allenby        2513             0.58                  4333   \n",
       "2   Hoggs Hollow        3123             2.76                  1132   \n",
       "3  Lawrence Park        6653             3.64                  1828   \n",
       "4       Rosedale        7672             2.72                  2821   \n",
       "\n",
       "   Average Income  \n",
       "0          314107  \n",
       "1          245592  \n",
       "2          222560  \n",
       "3          214110  \n",
       "4          213941  "
      ]
     },
     "execution_count": 20,
     "metadata": {},
     "output_type": "execute_result"
    }
   ],
   "source": [
    "df_w.head()"
   ]
  },
  {
   "cell_type": "code",
   "execution_count": 21,
   "metadata": {},
   "outputs": [
    {
     "data": {
      "text/html": [
       "<div>\n",
       "<style scoped>\n",
       "    .dataframe tbody tr th:only-of-type {\n",
       "        vertical-align: middle;\n",
       "    }\n",
       "\n",
       "    .dataframe tbody tr th {\n",
       "        vertical-align: top;\n",
       "    }\n",
       "\n",
       "    .dataframe thead th {\n",
       "        text-align: right;\n",
       "    }\n",
       "</style>\n",
       "<table border=\"1\" class=\"dataframe\">\n",
       "  <thead>\n",
       "    <tr style=\"text-align: right;\">\n",
       "      <th></th>\n",
       "      <th>Name</th>\n",
       "      <th>Population</th>\n",
       "      <th>Land area (km2)</th>\n",
       "      <th>Density (people/km2)</th>\n",
       "      <th>Average Income</th>\n",
       "      <th>Neighborhoods</th>\n",
       "    </tr>\n",
       "  </thead>\n",
       "  <tbody>\n",
       "    <tr>\n",
       "      <th>41</th>\n",
       "      <td>Birch Cliff</td>\n",
       "      <td>12266</td>\n",
       "      <td>3.48</td>\n",
       "      <td>3525</td>\n",
       "      <td>48965</td>\n",
       "      <td>Birch Cliff</td>\n",
       "    </tr>\n",
       "    <tr>\n",
       "      <th>53</th>\n",
       "      <td>West Rouge</td>\n",
       "      <td>9300</td>\n",
       "      <td>4.45</td>\n",
       "      <td>2090</td>\n",
       "      <td>44605</td>\n",
       "      <td>West Rouge</td>\n",
       "    </tr>\n",
       "    <tr>\n",
       "      <th>64</th>\n",
       "      <td>Guildwood</td>\n",
       "      <td>12820</td>\n",
       "      <td>4.77</td>\n",
       "      <td>2688</td>\n",
       "      <td>40806</td>\n",
       "      <td>Guildwood</td>\n",
       "    </tr>\n",
       "    <tr>\n",
       "      <th>74</th>\n",
       "      <td>Cliffcrest</td>\n",
       "      <td>14531</td>\n",
       "      <td>7.01</td>\n",
       "      <td>2073</td>\n",
       "      <td>38182</td>\n",
       "      <td>Cliffcrest</td>\n",
       "    </tr>\n",
       "    <tr>\n",
       "      <th>95</th>\n",
       "      <td>Highland Creek</td>\n",
       "      <td>12853</td>\n",
       "      <td>5.13</td>\n",
       "      <td>2505</td>\n",
       "      <td>33640</td>\n",
       "      <td>Highland Creek</td>\n",
       "    </tr>\n",
       "  </tbody>\n",
       "</table>\n",
       "</div>"
      ],
      "text/plain": [
       "              Name  Population  Land area (km2)  Density (people/km2)  \\\n",
       "41     Birch Cliff       12266             3.48                  3525   \n",
       "53      West Rouge        9300             4.45                  2090   \n",
       "64       Guildwood       12820             4.77                  2688   \n",
       "74      Cliffcrest       14531             7.01                  2073   \n",
       "95  Highland Creek       12853             5.13                  2505   \n",
       "\n",
       "    Average Income   Neighborhoods  \n",
       "41           48965     Birch Cliff  \n",
       "53           44605      West Rouge  \n",
       "64           40806       Guildwood  \n",
       "74           38182      Cliffcrest  \n",
       "95           33640  Highland Creek  "
      ]
     },
     "execution_count": 21,
     "metadata": {},
     "output_type": "execute_result"
    }
   ],
   "source": [
    "#Clean datset and limit to only Scarborough\n",
    "neighborhoods=pd.read_csv('neighborhoods.csv')\n",
    "merge1=df_w.merge(neighborhoods, how='left', left_on='Name', right_on='Neighborhoods')\n",
    "merge1=pd.DataFrame(data=merge1)\n",
    "merge2=merge1.dropna(subset=['Neighborhoods'])\n",
    "merge2.head()"
   ]
  },
  {
   "cell_type": "code",
   "execution_count": 23,
   "metadata": {},
   "outputs": [
    {
     "data": {
      "text/plain": [
       "(25, 6)"
      ]
     },
     "execution_count": 23,
     "metadata": {},
     "output_type": "execute_result"
    }
   ],
   "source": [
    "scarborough_income_df=merge2\n",
    "scarborough_income_df.shape"
   ]
  },
  {
   "cell_type": "code",
   "execution_count": 24,
   "metadata": {},
   "outputs": [
    {
     "data": {
      "text/plain": [
       "Name                     object\n",
       "Population                int64\n",
       "Land area (km2)         float64\n",
       "Density (people/km2)      int64\n",
       "Average Income            int64\n",
       "Neighborhoods            object\n",
       "dtype: object"
      ]
     },
     "execution_count": 24,
     "metadata": {},
     "output_type": "execute_result"
    }
   ],
   "source": [
    "# Take top 20% of Scarborough neighborhoods\n",
    "scarborough_top_income=scarborough_income_df.head(7)\n",
    "scarborough_top_income.reset_index(drop=True)\n",
    "scarborough_top_income.dtypes"
   ]
  },
  {
   "cell_type": "markdown",
   "metadata": {},
   "source": [
    "#### Plot features by Neighborhoods"
   ]
  },
  {
   "cell_type": "code",
   "execution_count": 25,
   "metadata": {},
   "outputs": [
    {
     "data": {
      "image/png": "[encoded data removed]",
      "text/plain": [
       "<Figure size 1440x576 with 2 Axes>"
      ]
     },
     "metadata": {
      "needs_background": "light"
     },
     "output_type": "display_data"
    }
   ],
   "source": [
    "fig = plt.figure() # create figure\n",
    "\n",
    "ax0 = fig.add_subplot(1, 2, 1) # add subplot 1 (1 row, 2 columns, first plot)\n",
    "ax1 = fig.add_subplot(1, 2, 2) # add subplot 2 (1 row, 2 columns, second plot). See tip below**\n",
    "\n",
    "# Subplot 1: Bar\n",
    "scarborough_top_income.plot(kind='bar', x='Name', y='Average Income', color='blue', figsize=(20, 8), ax=ax0)\n",
    "ax0.set_title('Average Income of Neighbourhoods in Scarborough')\n",
    "ax0.set_xlabel('Area')\n",
    "ax0.set_ylabel('Average Income £')\n",
    "\n",
    "# Subplot 2: Bar\n",
    "scarborough_top_income.plot(kind='bar', x='Name', y='Population', color='blue', figsize=(20, 8), ax=ax1) # add to subplot 1\n",
    "ax1.set_title('Population of Neighbourhoods in Scarborough')\n",
    "ax1.set_xlabel('Area')\n",
    "ax1.set_ylabel('Population')\n",
    "plt.show()\n",
    "\n",
    "plt.show()"
   ]
  },
  {
   "cell_type": "code",
   "execution_count": 26,
   "metadata": {},
   "outputs": [
    {
     "data": {
      "image/png": "[encoded data removed]",
      "text/plain": [
       "<Figure size 1440x576 with 1 Axes>"
      ]
     },
     "metadata": {
      "needs_background": "light"
     },
     "output_type": "display_data"
    }
   ],
   "source": [
    "scarborough_top_income.plot(kind='bar', x='Name', y='Density (people/km2)', color='blue', figsize=(20, 8))\n",
    "\n",
    "plt.title('Scarborough Neighbourhoods Population Density')\n",
    "plt.xlabel('Area')\n",
    "plt.ylabel('Density (people/km2)')\n",
    "\n",
    "plt.show()"
   ]
  },
  {
   "cell_type": "markdown",
   "metadata": {},
   "source": [
    "This has helped to reduce the subset of suitable neighborhoods we are happy to use. Ranked in order of preference based on population and income:\n",
    "1. Birchcliff, Guildwood, Hillcrest\n",
    "2. West Rouge\n",
    "3. Highland Creek\n",
    "4. Clairlea\n",
    "5. Cliffside"
   ]
  },
  {
   "cell_type": "markdown",
   "metadata": {},
   "source": [
    "#### Now let's use the foursquare API to find the area's which contain a suitable number of other businesses within these area's"
   ]
  },
  {
   "cell_type": "code",
   "execution_count": 33,
   "metadata": {},
   "outputs": [],
   "source": [
    "LIMIT = 100\n",
    "radius = 500\n",
    "url = 'https://api.foursquare.com/v2/venues/explore?client_id={}&client_secret={}&ll={},{}&v={}&radius={}&limit={}'.format(CLIENT_ID, CLIENT_SECRET, latitude_scar, longitude_scar, VERSION, radius, LIMIT)\n",
    "\n",
    "results = requests.get(url).json()"
   ]
  },
  {
   "cell_type": "code",
   "execution_count": 27,
   "metadata": {},
   "outputs": [],
   "source": [
    "# function that extracts the category of the venue\n",
    "def get_category_type(row):\n",
    "    try:\n",
    "        categories_list = row['categories']\n",
    "    except:\n",
    "        categories_list = row['venue.categories']\n",
    "        \n",
    "    if len(categories_list) == 0:\n",
    "        return None\n",
    "    else:\n",
    "        return categories_list[0]['name']"
   ]
  },
  {
   "cell_type": "code",
   "execution_count": 31,
   "metadata": {},
   "outputs": [],
   "source": [
    "def getNearbyVenues(names, latitudes, longitudes, radius=500):\n",
    "    \n",
    "    venues_list=[]\n",
    "    for name, lat, lng in zip(names, latitudes, longitudes):\n",
    "        print(name)\n",
    "            \n",
    "        # create the API request URL\n",
    "        url = 'https://api.foursquare.com/v2/venues/explore?&client_id={}&client_secret={}&v={}&ll={},{}&radius={}&limit={}'.format(\n",
    "            CLIENT_ID, \n",
    "            CLIENT_SECRET, \n",
    "            VERSION, \n",
    "            lat, \n",
    "            lng, \n",
    "            radius, \n",
    "            LIMIT)\n",
    "            \n",
    "        # make the GET request\n",
    "        results = requests.get(url).json()[\"response\"]['groups'][0]['items']\n",
    "        \n",
    "        # return only relevant information for each nearby venue\n",
    "        venues_list.append([(\n",
    "            name, \n",
    "            lat, \n",
    "            lng, \n",
    "            v['venue']['name'], \n",
    "            v['venue']['location']['lat'], \n",
    "            v['venue']['location']['lng'],  \n",
    "            v['venue']['categories'][0]['name']) for v in results])\n",
    "\n",
    "    nearby_venues = pd.DataFrame([item for venue_list in venues_list for item in venue_list])\n",
    "    nearby_venues.columns = ['Neighborhood', \n",
    "                  'Neighborhood Latitude', \n",
    "                  'Neighborhood Longitude', \n",
    "                  'Venue', \n",
    "                  'Venue Latitude', \n",
    "                  'Venue Longitude', \n",
    "                  'Venue Category']\n",
    "    \n",
    "    return(nearby_venues)"
   ]
  },
  {
   "cell_type": "code",
   "execution_count": 34,
   "metadata": {},
   "outputs": [
    {
     "name": "stdout",
     "output_type": "stream",
     "text": [
      "Malvern, Rouge\n",
      "Rouge Hill, Port Union, Highland Creek\n",
      "Guildwood, Morningside, West Hill\n",
      "Woburn\n",
      "Cedarbrae\n",
      "Scarborough Village\n",
      "Kennedy Park, Ionview, East Birchmount Park\n",
      "Golden Mile, Clairlea, Oakridge\n",
      "Cliffside, Cliffcrest, Scarborough Village West\n",
      "Birch Cliff, Cliffside West\n",
      "Dorset Park, Wexford Heights, Scarborough Town Centre\n",
      "Wexford, Maryvale\n",
      "Agincourt\n",
      "Clarks Corners, Tam O'Shanter, Sullivan\n",
      "Milliken, Agincourt North, Steeles East, L'Amoreaux East\n",
      "Steeles West, L'Amoreaux West\n",
      "Upper Rouge\n"
     ]
    }
   ],
   "source": [
    "scarborough_venues = getNearbyVenues(names=scarborough_data['Neighborhood'],\n",
    "                                   latitudes=scarborough_data['Latitude'],\n",
    "                                   longitudes=scarborough_data['Longitude']\n",
    "                                  )"
   ]
  },
  {
   "cell_type": "code",
   "execution_count": 35,
   "metadata": {},
   "outputs": [],
   "source": [
    "# one hot encoding\n",
    "scarb_onehot = pd.get_dummies(scarborough_venues[['Venue Category']], prefix=\"\", prefix_sep=\"\")\n",
    "\n",
    "# add neighborhood column back to dataframe\n",
    "scarb_onehot['Neighborhood'] = scarborough_venues['Neighborhood'] \n",
    "\n",
    "# move neighborhood column to the first column\n",
    "fixed_columns = [scarb_onehot.columns[-1]] + list(scarb_onehot.columns[:-1])\n",
    "scarb_onehot = scarb_onehot[fixed_columns]"
   ]
  },
  {
   "cell_type": "code",
   "execution_count": 36,
   "metadata": {},
   "outputs": [],
   "source": [
    "scarb_grouped = scarb_onehot.groupby('Neighborhood').mean().reset_index()"
   ]
  },
  {
   "cell_type": "code",
   "execution_count": 37,
   "metadata": {},
   "outputs": [],
   "source": [
    "def return_most_common_venues(row, num_top_venues):\n",
    "    row_categories = row.iloc[1:]\n",
    "    row_categories_sorted = row_categories.sort_values(ascending=False)\n",
    "    \n",
    "    return row_categories_sorted.index.values[0:num_top_venues]"
   ]
  },
  {
   "cell_type": "code",
   "execution_count": 38,
   "metadata": {},
   "outputs": [],
   "source": [
    "num_top_venues = 10\n",
    "\n",
    "indicators = ['st', 'nd', 'rd']\n",
    "\n",
    "# create columns according to number of top venues\n",
    "columns = ['Neighborhood']\n",
    "for ind in np.arange(num_top_venues):\n",
    "    try:\n",
    "        columns.append('{}{} Most Common Venue'.format(ind+1, indicators[ind]))\n",
    "    except:\n",
    "        columns.append('{}th Most Common Venue'.format(ind+1))\n",
    "\n",
    "# create a new dataframe\n",
    "neighborhoods_venues_sorted = pd.DataFrame(columns=columns)\n",
    "neighborhoods_venues_sorted['Neighborhood'] = scarb_grouped['Neighborhood']\n",
    "\n",
    "for ind in np.arange(scarb_grouped.shape[0]):\n",
    "    neighborhoods_venues_sorted.iloc[ind, 1:] = return_most_common_venues(scarb_grouped.iloc[ind, :], num_top_venues)"
   ]
  },
  {
   "cell_type": "code",
   "execution_count": 41,
   "metadata": {},
   "outputs": [
    {
     "data": {
      "text/html": [
       "<div>\n",
       "<style scoped>\n",
       "    .dataframe tbody tr th:only-of-type {\n",
       "        vertical-align: middle;\n",
       "    }\n",
       "\n",
       "    .dataframe tbody tr th {\n",
       "        vertical-align: top;\n",
       "    }\n",
       "\n",
       "    .dataframe thead th {\n",
       "        text-align: right;\n",
       "    }\n",
       "</style>\n",
       "<table border=\"1\" class=\"dataframe\">\n",
       "  <thead>\n",
       "    <tr style=\"text-align: right;\">\n",
       "      <th></th>\n",
       "      <th>Neighborhood</th>\n",
       "      <th>1st Most Common Venue</th>\n",
       "      <th>2nd Most Common Venue</th>\n",
       "      <th>3rd Most Common Venue</th>\n",
       "      <th>4th Most Common Venue</th>\n",
       "      <th>5th Most Common Venue</th>\n",
       "      <th>6th Most Common Venue</th>\n",
       "      <th>7th Most Common Venue</th>\n",
       "      <th>8th Most Common Venue</th>\n",
       "      <th>9th Most Common Venue</th>\n",
       "      <th>10th Most Common Venue</th>\n",
       "    </tr>\n",
       "  </thead>\n",
       "  <tbody>\n",
       "    <tr>\n",
       "      <th>0</th>\n",
       "      <td>Birch Cliff, Cliffside West</td>\n",
       "      <td>General Entertainment</td>\n",
       "      <td>Skating Rink</td>\n",
       "      <td>Café</td>\n",
       "      <td>College Stadium</td>\n",
       "      <td>Vietnamese Restaurant</td>\n",
       "      <td>Clothing Store</td>\n",
       "      <td>Grocery Store</td>\n",
       "      <td>Gas Station</td>\n",
       "      <td>Fried Chicken Joint</td>\n",
       "      <td>Fast Food Restaurant</td>\n",
       "    </tr>\n",
       "    <tr>\n",
       "      <th>1</th>\n",
       "      <td>Cliffside, Cliffcrest, Scarborough Village West</td>\n",
       "      <td>Motel</td>\n",
       "      <td>American Restaurant</td>\n",
       "      <td>Vietnamese Restaurant</td>\n",
       "      <td>Grocery Store</td>\n",
       "      <td>General Entertainment</td>\n",
       "      <td>Gas Station</td>\n",
       "      <td>Fried Chicken Joint</td>\n",
       "      <td>Fast Food Restaurant</td>\n",
       "      <td>Electronics Store</td>\n",
       "      <td>Discount Store</td>\n",
       "    </tr>\n",
       "    <tr>\n",
       "      <th>2</th>\n",
       "      <td>Golden Mile, Clairlea, Oakridge</td>\n",
       "      <td>Bakery</td>\n",
       "      <td>Bus Line</td>\n",
       "      <td>Ice Cream Shop</td>\n",
       "      <td>Park</td>\n",
       "      <td>Bus Station</td>\n",
       "      <td>Metro Station</td>\n",
       "      <td>Soccer Field</td>\n",
       "      <td>Fried Chicken Joint</td>\n",
       "      <td>Fast Food Restaurant</td>\n",
       "      <td>Coffee Shop</td>\n",
       "    </tr>\n",
       "    <tr>\n",
       "      <th>3</th>\n",
       "      <td>Guildwood, Morningside, West Hill</td>\n",
       "      <td>Intersection</td>\n",
       "      <td>Bank</td>\n",
       "      <td>Rental Car Location</td>\n",
       "      <td>Electronics Store</td>\n",
       "      <td>Breakfast Spot</td>\n",
       "      <td>Medical Center</td>\n",
       "      <td>Mexican Restaurant</td>\n",
       "      <td>Vietnamese Restaurant</td>\n",
       "      <td>Coffee Shop</td>\n",
       "      <td>Gas Station</td>\n",
       "    </tr>\n",
       "    <tr>\n",
       "      <th>4</th>\n",
       "      <td>Malvern, Rouge</td>\n",
       "      <td>Fast Food Restaurant</td>\n",
       "      <td>Print Shop</td>\n",
       "      <td>Vietnamese Restaurant</td>\n",
       "      <td>Clothing Store</td>\n",
       "      <td>Grocery Store</td>\n",
       "      <td>General Entertainment</td>\n",
       "      <td>Gas Station</td>\n",
       "      <td>Fried Chicken Joint</td>\n",
       "      <td>Electronics Store</td>\n",
       "      <td>Discount Store</td>\n",
       "    </tr>\n",
       "    <tr>\n",
       "      <th>5</th>\n",
       "      <td>Rouge Hill, Port Union, Highland Creek</td>\n",
       "      <td>Bar</td>\n",
       "      <td>Vietnamese Restaurant</td>\n",
       "      <td>Clothing Store</td>\n",
       "      <td>Grocery Store</td>\n",
       "      <td>General Entertainment</td>\n",
       "      <td>Gas Station</td>\n",
       "      <td>Fried Chicken Joint</td>\n",
       "      <td>Fast Food Restaurant</td>\n",
       "      <td>Electronics Store</td>\n",
       "      <td>Discount Store</td>\n",
       "    </tr>\n",
       "  </tbody>\n",
       "</table>\n",
       "</div>"
      ],
      "text/plain": [
       "                                      Neighborhood  1st Most Common Venue  \\\n",
       "0                      Birch Cliff, Cliffside West  General Entertainment   \n",
       "1  Cliffside, Cliffcrest, Scarborough Village West                  Motel   \n",
       "2                  Golden Mile, Clairlea, Oakridge                 Bakery   \n",
       "3                Guildwood, Morningside, West Hill           Intersection   \n",
       "4                                   Malvern, Rouge   Fast Food Restaurant   \n",
       "5           Rouge Hill, Port Union, Highland Creek                    Bar   \n",
       "\n",
       "   2nd Most Common Venue  3rd Most Common Venue 4th Most Common Venue  \\\n",
       "0           Skating Rink                   Café       College Stadium   \n",
       "1    American Restaurant  Vietnamese Restaurant         Grocery Store   \n",
       "2               Bus Line         Ice Cream Shop                  Park   \n",
       "3                   Bank    Rental Car Location     Electronics Store   \n",
       "4             Print Shop  Vietnamese Restaurant        Clothing Store   \n",
       "5  Vietnamese Restaurant         Clothing Store         Grocery Store   \n",
       "\n",
       "   5th Most Common Venue  6th Most Common Venue 7th Most Common Venue  \\\n",
       "0  Vietnamese Restaurant         Clothing Store         Grocery Store   \n",
       "1  General Entertainment            Gas Station   Fried Chicken Joint   \n",
       "2            Bus Station          Metro Station          Soccer Field   \n",
       "3         Breakfast Spot         Medical Center    Mexican Restaurant   \n",
       "4          Grocery Store  General Entertainment           Gas Station   \n",
       "5  General Entertainment            Gas Station   Fried Chicken Joint   \n",
       "\n",
       "   8th Most Common Venue 9th Most Common Venue 10th Most Common Venue  \n",
       "0            Gas Station   Fried Chicken Joint   Fast Food Restaurant  \n",
       "1   Fast Food Restaurant     Electronics Store         Discount Store  \n",
       "2    Fried Chicken Joint  Fast Food Restaurant            Coffee Shop  \n",
       "3  Vietnamese Restaurant           Coffee Shop            Gas Station  \n",
       "4    Fried Chicken Joint     Electronics Store         Discount Store  \n",
       "5   Fast Food Restaurant     Electronics Store         Discount Store  "
      ]
     },
     "execution_count": 41,
     "metadata": {},
     "output_type": "execute_result"
    }
   ],
   "source": [
    "#Now reduce to subset of neighborhoods found with suitable wealth\n",
    "areas=['Birchcliff', 'Guildwood', 'Hillcrest', 'Rouge', 'Highland Creek', 'Clairlea', 'Cliffside']\n",
    "shortlist_neighborhoods=neighborhoods_venues_sorted[neighborhoods_venues_sorted['Neighborhood'].str.contains('|'.join(areas))]\n",
    "shortlist_neighborhoods.reset_index(drop=True)"
   ]
  },
  {
   "cell_type": "markdown",
   "metadata": {},
   "source": [
    "We can eliminate Golden Mile, Clairlea, Oakridge from the suitable subset because there is not a sufficient number of other restaurants in the area. And the restuarants that there are are generally low quality fast food establishments. The other areas may be suitable."
   ]
  },
  {
   "cell_type": "markdown",
   "metadata": {},
   "source": [
    "#### Our final constraint is proximity to a wine shop. Let's investigate"
   ]
  },
  {
   "cell_type": "code",
   "execution_count": 43,
   "metadata": {},
   "outputs": [
    {
     "data": {
      "text/html": [
       "<div>\n",
       "<style scoped>\n",
       "    .dataframe tbody tr th:only-of-type {\n",
       "        vertical-align: middle;\n",
       "    }\n",
       "\n",
       "    .dataframe tbody tr th {\n",
       "        vertical-align: top;\n",
       "    }\n",
       "\n",
       "    .dataframe thead th {\n",
       "        text-align: right;\n",
       "    }\n",
       "</style>\n",
       "<table border=\"1\" class=\"dataframe\">\n",
       "  <thead>\n",
       "    <tr style=\"text-align: right;\">\n",
       "      <th></th>\n",
       "      <th>Borough</th>\n",
       "      <th>Neighborhood</th>\n",
       "      <th>Latitude</th>\n",
       "      <th>Longitude</th>\n",
       "    </tr>\n",
       "    <tr>\n",
       "      <th>Postal Code</th>\n",
       "      <th></th>\n",
       "      <th></th>\n",
       "      <th></th>\n",
       "      <th></th>\n",
       "    </tr>\n",
       "  </thead>\n",
       "  <tbody>\n",
       "    <tr>\n",
       "      <th>M1B</th>\n",
       "      <td>Scarborough</td>\n",
       "      <td>Malvern, Rouge</td>\n",
       "      <td>43.806686</td>\n",
       "      <td>-79.194353</td>\n",
       "    </tr>\n",
       "    <tr>\n",
       "      <th>M1C</th>\n",
       "      <td>Scarborough</td>\n",
       "      <td>Rouge Hill, Port Union, Highland Creek</td>\n",
       "      <td>43.784535</td>\n",
       "      <td>-79.160497</td>\n",
       "    </tr>\n",
       "    <tr>\n",
       "      <th>M1E</th>\n",
       "      <td>Scarborough</td>\n",
       "      <td>Guildwood, Morningside, West Hill</td>\n",
       "      <td>43.763573</td>\n",
       "      <td>-79.188711</td>\n",
       "    </tr>\n",
       "    <tr>\n",
       "      <th>M1L</th>\n",
       "      <td>Scarborough</td>\n",
       "      <td>Golden Mile, Clairlea, Oakridge</td>\n",
       "      <td>43.711112</td>\n",
       "      <td>-79.284577</td>\n",
       "    </tr>\n",
       "    <tr>\n",
       "      <th>M1M</th>\n",
       "      <td>Scarborough</td>\n",
       "      <td>Cliffside, Cliffcrest, Scarborough Village West</td>\n",
       "      <td>43.716316</td>\n",
       "      <td>-79.239476</td>\n",
       "    </tr>\n",
       "    <tr>\n",
       "      <th>M1N</th>\n",
       "      <td>Scarborough</td>\n",
       "      <td>Birch Cliff, Cliffside West</td>\n",
       "      <td>43.692657</td>\n",
       "      <td>-79.264848</td>\n",
       "    </tr>\n",
       "    <tr>\n",
       "      <th>M1X</th>\n",
       "      <td>Scarborough</td>\n",
       "      <td>Upper Rouge</td>\n",
       "      <td>43.836125</td>\n",
       "      <td>-79.205636</td>\n",
       "    </tr>\n",
       "    <tr>\n",
       "      <th>M2H</th>\n",
       "      <td>North York</td>\n",
       "      <td>Hillcrest Village</td>\n",
       "      <td>43.803762</td>\n",
       "      <td>-79.363452</td>\n",
       "    </tr>\n",
       "  </tbody>\n",
       "</table>\n",
       "</div>"
      ],
      "text/plain": [
       "                 Borough                                     Neighborhood  \\\n",
       "Postal Code                                                                 \n",
       "M1B          Scarborough                                   Malvern, Rouge   \n",
       "M1C          Scarborough           Rouge Hill, Port Union, Highland Creek   \n",
       "M1E          Scarborough                Guildwood, Morningside, West Hill   \n",
       "M1L          Scarborough                  Golden Mile, Clairlea, Oakridge   \n",
       "M1M          Scarborough  Cliffside, Cliffcrest, Scarborough Village West   \n",
       "M1N          Scarborough                      Birch Cliff, Cliffside West   \n",
       "M1X          Scarborough                                      Upper Rouge   \n",
       "M2H           North York                                Hillcrest Village   \n",
       "\n",
       "              Latitude  Longitude  \n",
       "Postal Code                        \n",
       "M1B          43.806686 -79.194353  \n",
       "M1C          43.784535 -79.160497  \n",
       "M1E          43.763573 -79.188711  \n",
       "M1L          43.711112 -79.284577  \n",
       "M1M          43.716316 -79.239476  \n",
       "M1N          43.692657 -79.264848  \n",
       "M1X          43.836125 -79.205636  \n",
       "M2H          43.803762 -79.363452  "
      ]
     },
     "execution_count": 43,
     "metadata": {},
     "output_type": "execute_result"
    }
   ],
   "source": [
    "#Clean dataset\n",
    "df1[df1['Neighborhood'].str.contains('|'.join(areas))]"
   ]
  },
  {
   "cell_type": "code",
   "execution_count": 51,
   "metadata": {},
   "outputs": [
    {
     "name": "stdout",
     "output_type": "stream",
     "text": [
      "43.773077 -79.257774\n"
     ]
    }
   ],
   "source": [
    "#Search for wine shops in Toronto\n",
    "\n",
    "address = 'Scarborough, Toronto'\n",
    "\n",
    "geolocator = Nominatim(user_agent=\"foursquare_agent\")\n",
    "location = geolocator.geocode(address)\n",
    "latitude = location.latitude\n",
    "longitude = location.longitude\n",
    "print(latitude, longitude)\n"
   ]
  },
  {
   "cell_type": "code",
   "execution_count": 52,
   "metadata": {},
   "outputs": [
    {
     "name": "stdout",
     "output_type": "stream",
     "text": [
      "wine .... OK!\n"
     ]
    }
   ],
   "source": [
    "search_query = 'wine'\n",
    "radius = 10000\n",
    "print(search_query + ' .... OK!')\n",
    "\n",
    "url = 'https://api.foursquare.com/v2/venues/search?client_id={}&client_secret={}&ll={},{}&v={}&query={}&radius={}&limit={}'.format(CLIENT_ID, CLIENT_SECRET, latitude, longitude, VERSION, search_query, radius, LIMIT)"
   ]
  },
  {
   "cell_type": "code",
   "execution_count": 54,
   "metadata": {},
   "outputs": [],
   "source": [
    "results = requests.get(url).json()\n",
    "# assign relevant part of JSON to venues\n",
    "venues = results['response']['venues']\n",
    "# tranform venues into a dataframe\n",
    "dataframe = json_normalize(venues)"
   ]
  },
  {
   "cell_type": "code",
   "execution_count": 55,
   "metadata": {},
   "outputs": [],
   "source": [
    "# keep only columns that include venue name, and anything that is associated with location\n",
    "filtered_columns = ['name', 'categories'] + [col for col in dataframe.columns if col.startswith('location.')] + ['id']\n",
    "dataframe_filtered = dataframe.loc[:, filtered_columns]\n",
    "\n",
    "# function that extracts the category of the venue\n",
    "def get_category_type(row):\n",
    "    try:\n",
    "        categories_list = row['categories']\n",
    "    except:\n",
    "        categories_list = row['venue.categories']\n",
    "        \n",
    "    if len(categories_list) == 0:\n",
    "        return None\n",
    "    else:\n",
    "        return categories_list[0]['name']\n",
    "\n",
    "# filter the category for each row\n",
    "dataframe_filtered['categories'] = dataframe_filtered.apply(get_category_type, axis=1)\n",
    "\n",
    "# clean column names by keeping only last term\n",
    "dataframe_filtered.columns = [column.split('.')[-1] for column in dataframe_filtered.columns]"
   ]
  },
  {
   "cell_type": "code",
   "execution_count": 56,
   "metadata": {},
   "outputs": [],
   "source": [
    "dataframe_filtered=dataframe_filtered.loc[dataframe_filtered['categories']== 'Wine Shop']"
   ]
  },
  {
   "cell_type": "code",
   "execution_count": 59,
   "metadata": {},
   "outputs": [],
   "source": [
    "#Save off latitudes and longitudes for subset of suitable areas\n",
    "Birch_Cliffside_Lat=43.692657\n",
    "Birch_Cliffside_Long=-79.264848\n",
    "Hillcrest_Lat=43.803762\n",
    "Hillcrest_Long=-79.363452\n",
    "Guildwood_Lat=43.763573\n",
    "Guildwood_Long=-79.188711\n",
    "Rouge_Lat=43.806686\n",
    "Rouge_Long=\t-79.194353\n",
    "Highland_Lat=43.784535\n",
    "Highland_Long=-79.160497"
   ]
  },
  {
   "cell_type": "code",
   "execution_count": 60,
   "metadata": {},
   "outputs": [
    {
     "data": {
      "text/html": [
       "<div style=\"width:100%;\"><div style=\"position:relative;width:100%;height:0;padding-bottom:60%;\"><iframe src=\"about:blank\" style=\"position:absolute;width:100%;height:100%;left:0;top:0;border:none !important;\" data-html=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 onload=\"this.contentDocument.open();this.contentDocument.write(atob(this.getAttribute('data-html')));this.contentDocument.close();\" allowfullscreen webkitallowfullscreen mozallowfullscreen></iframe></div></div>"
      ],
      "text/plain": [
       "<folium.folium.Map at 0x1a1df820b8>"
      ]
     },
     "execution_count": 60,
     "metadata": {},
     "output_type": "execute_result"
    }
   ],
   "source": [
    "venues_map = folium.Map(location=[latitude, longitude], zoom_start=13) # generate map\n",
    "\n",
    "# add a red circles for our neighborhoods marker to represent the suitable neighborhoods\n",
    "folium.features.CircleMarker(\n",
    "    [Birch_Cliffside_Lat, Birch_Cliffside_Long],\n",
    "    radius=10,\n",
    "    color='red',\n",
    "    popup='Birchcliff & Cliffside',\n",
    "    fill = True,\n",
    "    fill_color = 'red',\n",
    "    fill_opacity = 0.6\n",
    ").add_to(venues_map)\n",
    "\n",
    "folium.features.CircleMarker(\n",
    "    [Hillcrest_Lat, Hillcrest_Long],\n",
    "    radius=10,\n",
    "    color='red',\n",
    "    popup='Hillcrest',\n",
    "    fill = True,\n",
    "    fill_color = 'red',\n",
    "    fill_opacity = 0.6\n",
    ").add_to(venues_map)\n",
    "\n",
    "folium.features.CircleMarker(\n",
    "    [Guildwood_Lat, Guildwood_Long],\n",
    "    radius=10,\n",
    "    color='red',\n",
    "    popup='Guildwood',\n",
    "    fill = True,\n",
    "    fill_color = 'red',\n",
    "    fill_opacity = 0.6\n",
    ").add_to(venues_map)\n",
    "\n",
    "folium.features.CircleMarker(\n",
    "    [Rouge_Lat, Rouge_Long],\n",
    "    radius=10,\n",
    "    color='red',\n",
    "    popup='Rouge',\n",
    "    fill = True,\n",
    "    fill_color = 'red',\n",
    "    fill_opacity = 0.6\n",
    ").add_to(venues_map)\n",
    "\n",
    "folium.features.CircleMarker(\n",
    "    [Highland_Lat, Highland_Long],\n",
    "    radius=10,\n",
    "    color='red',\n",
    "    popup='Highland Creek',\n",
    "    fill = True,\n",
    "    fill_color = 'red',\n",
    "    fill_opacity = 0.6\n",
    ").add_to(venues_map)\n",
    "\n",
    "# add the Italian restaurants as blue circle markers\n",
    "for lat, lng, label in zip(dataframe_filtered.lat, dataframe_filtered.lng, dataframe_filtered.categories):\n",
    "    folium.features.CircleMarker(\n",
    "        [lat, lng],\n",
    "        radius=5,\n",
    "        color='blue',\n",
    "        popup=label,\n",
    "        fill = True,\n",
    "        fill_color='blue',\n",
    "        fill_opacity=0.6\n",
    "    ).add_to(venues_map)\n",
    "\n",
    "# display map\n",
    "venues_map"
   ]
  },
  {
   "cell_type": "markdown",
   "metadata": {},
   "source": [
    "It is clear to see that Highland Creek & Rouge are unsuitable."
   ]
  },
  {
   "cell_type": "markdown",
   "metadata": {},
   "source": [
    " In order of proximity to a wine shop we have:\n",
    "1. Birchcliff & Cliffside\n",
    "2. Hillcrest\n",
    "3. Guildwood"
   ]
  },
  {
   "cell_type": "markdown",
   "metadata": {},
   "source": [
    "#### Conclusion"
   ]
  },
  {
   "cell_type": "markdown",
   "metadata": {},
   "source": [
    "The most suitable area is Birchcliff."
   ]
  },
  {
   "cell_type": "code",
   "execution_count": null,
   "metadata": {},
   "outputs": [],
   "source": []
  }
 ],
 "metadata": {
  "kernelspec": {
   "display_name": "Python 3",
   "language": "python",
   "name": "python3"
  },
  "language_info": {
   "codemirror_mode": {
    "name": "ipython",
    "version": 3
   },
   "file_extension": ".py",
   "mimetype": "text/x-python",
   "name": "python",
   "nbconvert_exporter": "python",
   "pygments_lexer": "ipython3",
   "version": "3.7.3"
  }
 },
 "nbformat": 4,
 "nbformat_minor": 2
}
