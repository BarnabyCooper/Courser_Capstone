{
 "cells": [
  {
   "cell_type": "markdown",
   "metadata": {},
   "source": [
    "# Final Project"
   ]
  },
  {
   "cell_type": "markdown",
   "metadata": {},
   "source": [
    "Business Problem:\n",
    "\n",
    "In a Scarborough, Toronto, a client is looking to open a restaurant, where would I recommend that they open it?\n",
    "\n",
    "\n",
    "There are many neighborhoods within Scarborough, choosing the right place is one of the most important decisions the client will make when starting the restuarant.\n",
    "\n",
    "The Restuarant:\n",
    "\n",
    "- A high end, Sushi restuarant. The customers are typically high wealth customers in the top 20% of US earners.\n",
    "- The business is BYOB, and will not serve alcohol.\n",
    "- The business usually takes 50% of it's service through bookings, and 50% through walk-ins.\n",
    "\n",
    "\n",
    "Considerations to take into account:\n",
    "\n",
    "I will base the decision on where to place the restuarant on the following criteria:\n",
    "\n",
    "1. The number of other businesses in the area:\n",
    "\n",
    "Because the business generates significant revenues through walk-ins, there must be other restuarants in the area. These restuarants, however, should not if possible be sushi restuarants. And should preferably be high-end restuarants.\n",
    "\n",
    "2. Wealth of the area\n",
    "\n",
    "The local population of the area must be sufficiently wealthy. The area should be in the top 20% ranking for wealthiest in Scarborough.\n",
    "\n",
    "3. Other requirements:\n",
    "\n",
    "There must be a local wine shop, because the business is BYOB this is very important to the client."
   ]
  },
  {
   "cell_type": "markdown",
   "metadata": {},
   "source": [
    "Data I will be using:\n",
    "    \n",
    "\n",
    "\n",
    "1. Foursquare API:\n",
    "\n",
    "- I will use this dataset to find the types of businesses in each area. I will ensure that in the chosen area(s) there are both wine shops, and a suitable number of other restuarants of the correct quality.\n",
    "\n",
    "2. Average income:\n",
    "\n",
    "- I will be using the \"Demographics of Toronto neighbourhoods\" dataset available at https://en.wikipedia.org/wiki/Demographics_of_Toronto_neighbourhoods\n",
    "\n",
    "\n",
    "\n",
    "\n",
    "\n",
    "\n",
    "\n",
    "\n",
    "\n"
   ]
  },
  {
   "cell_type": "markdown",
   "metadata": {},
   "source": [
    "# Part One: Create df for average wealth of neighborhoods in Scarborough, Toronto"
   ]
  },
  {
   "cell_type": "code",
   "execution_count": null,
   "metadata": {},
   "outputs": [],
   "source": []
  },
  {
   "cell_type": "code",
   "execution_count": null,
   "metadata": {},
   "outputs": [],
   "source": []
  },
  {
   "cell_type": "code",
   "execution_count": null,
   "metadata": {},
   "outputs": [],
   "source": []
  }
 ],
 "metadata": {
  "kernelspec": {
   "display_name": "Python 3",
   "language": "python",
   "name": "python3"
  },
  "language_info": {
   "codemirror_mode": {
    "name": "ipython",
    "version": 3
   },
   "file_extension": ".py",
   "mimetype": "text/x-python",
   "name": "python",
   "nbconvert_exporter": "python",
   "pygments_lexer": "ipython3",
   "version": "3.7.3"
  }
 },
 "nbformat": 4,
 "nbformat_minor": 2
}
